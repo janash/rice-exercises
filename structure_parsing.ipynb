{
 "cells": [
  {
   "cell_type": "markdown",
   "metadata": {},
   "source": [
    "# Structure Parsing\n",
    "\n",
    "This walks students through parsing an sdf file from Pu"
   ]
  },
  {
   "cell_type": "code",
   "execution_count": 1,
   "metadata": {},
   "outputs": [],
   "source": [
    "import os"
   ]
  },
  {
   "cell_type": "code",
   "execution_count": 2,
   "metadata": {},
   "outputs": [],
   "source": [
    "filehandle = os.path.join('data', 'Conformer3D_CID_7416.sdf')"
   ]
  },
  {
   "cell_type": "code",
   "execution_count": 3,
   "metadata": {},
   "outputs": [],
   "source": [
    "file = open(filehandle)\n",
    "data = file.readlines()\n",
    "file.close()"
   ]
  },
  {
   "cell_type": "markdown",
   "metadata": {},
   "source": [
    "For these files, the first number on the fourth row is always the number of atoms.\n",
    "\n",
    "How could you slice data to get the number of atoms?"
   ]
  },
  {
   "cell_type": "code",
   "execution_count": 4,
   "metadata": {},
   "outputs": [
    {
     "name": "stdout",
     "output_type": "stream",
     "text": [
      " 14 14  0     0  0  0  0  0  0999 V2000\n",
      "\n",
      "There are 14 atoms\n"
     ]
    }
   ],
   "source": [
    "fourth_line = data[3]\n",
    "print(fourth_line)\n",
    "\n",
    "words = fourth_line.split()\n",
    "\n",
    "num_atoms = int(words[0])\n",
    "\n",
    "print(F\"There are {num_atoms} atoms\")"
   ]
  },
  {
   "cell_type": "markdown",
   "metadata": {},
   "source": [
    "After the fourth line, the next lines give the coordinates of the atoms. There will be one line for each atom.\n",
    "\n",
    "How can you slice data so that you get the lines with atom information?"
   ]
  },
  {
   "cell_type": "code",
   "execution_count": 5,
   "metadata": {},
   "outputs": [
    {
     "name": "stdout",
     "output_type": "stream",
     "text": [
      "    2.3494    1.0976    0.0000 O   0  5  0  0  0  0  0  0  0  0  0  0\n",
      "\n",
      "    2.3494   -1.0976    0.0002 O   0  0  0  0  0  0  0  0  0  0  0  0\n",
      "\n",
      "    1.7415    0.0000   -0.0001 N   0  3  0  0  0  0  0  0  0  0  0  0\n",
      "\n",
      "    0.3215    0.0000   -0.0002 C   0  0  0  0  0  0  0  0  0  0  0  0\n",
      "\n",
      "   -0.3759    1.2080    0.0000 C   0  0  0  0  0  0  0  0  0  0  0  0\n",
      "\n",
      "   -0.3759   -1.2080   -0.0001 C   0  0  0  0  0  0  0  0  0  0  0  0\n",
      "\n",
      "   -1.7708    1.2080    0.0001 C   0  0  0  0  0  0  0  0  0  0  0  0\n",
      "\n",
      "   -1.7708   -1.2080    0.0000 C   0  0  0  0  0  0  0  0  0  0  0  0\n",
      "\n",
      "   -2.4683    0.0000    0.0001 C   0  0  0  0  0  0  0  0  0  0  0  0\n",
      "\n",
      "    0.1338    2.1681   -0.0001 H   0  0  0  0  0  0  0  0  0  0  0  0\n",
      "\n",
      "    0.1338   -2.1680   -0.0002 H   0  0  0  0  0  0  0  0  0  0  0  0\n",
      "\n",
      "   -2.3144    2.1483    0.0001 H   0  0  0  0  0  0  0  0  0  0  0  0\n",
      "\n",
      "   -2.3143   -2.1483    0.0000 H   0  0  0  0  0  0  0  0  0  0  0  0\n",
      "\n",
      "   -3.5544    0.0000    0.0002 H   0  0  0  0  0  0  0  0  0  0  0  0\n",
      "\n"
     ]
    }
   ],
   "source": [
    "starting_line = 4\n",
    "\n",
    "# What is the ending line of atom information in the atom information starts on line 4 and there are num_atoms lines?\n",
    "ending_line = starting_line + num_atoms\n",
    "\n",
    "atom_lines = data[starting_line:ending_line]\n",
    "\n",
    "for line in atom_lines:\n",
    "    print(line)"
   ]
  },
  {
   "cell_type": "markdown",
   "metadata": {},
   "source": [
    "In these lines, the first column is the x coordinate, the second is the y coordinate, the third is the z coordinate, and the fourth is the atom element. Loop over the lines and rearrange them so that you have the "
   ]
  },
  {
   "cell_type": "code",
   "execution_count": 7,
   "metadata": {},
   "outputs": [
    {
     "name": "stdout",
     "output_type": "stream",
     "text": [
      "O\t2.3494\t1.0976\t0.0000\n",
      "O\t2.3494\t-1.0976\t0.0002\n",
      "N\t1.7415\t0.0000\t-0.0001\n",
      "C\t0.3215\t0.0000\t-0.0002\n",
      "C\t-0.3759\t1.2080\t0.0000\n",
      "C\t-0.3759\t-1.2080\t-0.0001\n",
      "C\t-1.7708\t1.2080\t0.0001\n",
      "C\t-1.7708\t-1.2080\t0.0000\n",
      "C\t-2.4683\t0.0000\t0.0001\n",
      "H\t0.1338\t2.1681\t-0.0001\n",
      "H\t0.1338\t-2.1680\t-0.0002\n",
      "H\t-2.3144\t2.1483\t0.0001\n",
      "H\t-2.3143\t-2.1483\t0.0000\n",
      "H\t-3.5544\t0.0000\t0.0002\n"
     ]
    }
   ],
   "source": [
    "output_file = open('output.xyz', 'w+')\n",
    "\n",
    "\n",
    "# First - number of atoms\n",
    "output_file.write(f'{num_atoms}\\n')\n",
    "\n",
    "# Second line - a comment\n",
    "output_file.write(\"\\n\")\n",
    "\n",
    "for line in atom_lines:\n",
    "    \n",
    "    split_line = line.split()\n",
    "    x_line = split_line[0]\n",
    "    y_line = split_line[1]\n",
    "    z_line = split_line[2]\n",
    "    atom_name = split_line[3]\n",
    "    \n",
    "    xyz_string = F'{atom_name}\\t{x_line}\\t{y_line}\\t{z_line}'\n",
    "    \n",
    "    print(xyz_string)\n",
    "    \n",
    "    output_file.write(F'{xyz_string}\\n')\n",
    "\n",
    "output_file.close()"
   ]
  },
  {
   "cell_type": "code",
   "execution_count": 8,
   "metadata": {},
   "outputs": [],
   "source": [
    "less output.xyz"
   ]
  },
  {
   "cell_type": "code",
   "execution_count": null,
   "metadata": {},
   "outputs": [],
   "source": []
  }
 ],
 "metadata": {
  "kernelspec": {
   "display_name": "Python 3",
   "language": "python",
   "name": "python3"
  },
  "language_info": {
   "codemirror_mode": {
    "name": "ipython",
    "version": 3
   },
   "file_extension": ".py",
   "mimetype": "text/x-python",
   "name": "python",
   "nbconvert_exporter": "python",
   "pygments_lexer": "ipython3",
   "version": "3.7.6"
  }
 },
 "nbformat": 4,
 "nbformat_minor": 4
}
